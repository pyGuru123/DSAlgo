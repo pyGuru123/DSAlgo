{
 "cells": [
  {
   "cell_type": "markdown",
   "metadata": {},
   "source": [
    "### Doubly Linked List"
   ]
  },
  {
   "cell_type": "code",
   "execution_count": 3,
   "metadata": {},
   "outputs": [],
   "source": [
    "class DLLNode:\n",
    "    def __init__(self, value):\n",
    "        self.value = value\n",
    "        self.next = None\n",
    "        self.prev = None"
   ]
  },
  {
   "cell_type": "code",
   "execution_count": 4,
   "metadata": {},
   "outputs": [],
   "source": [
    "a = DLLNode(1)\n",
    "b = DLLNode(2)\n",
    "c = DLLNode(3)"
   ]
  },
  {
   "cell_type": "code",
   "execution_count": 5,
   "metadata": {},
   "outputs": [],
   "source": [
    "a.next = b\n",
    "b.prev = a\n",
    "b.next = c\n",
    "c.prev = b"
   ]
  },
  {
   "cell_type": "code",
   "execution_count": 6,
   "metadata": {},
   "outputs": [
    {
     "data": {
      "text/plain": [
       "2"
      ]
     },
     "execution_count": 6,
     "metadata": {},
     "output_type": "execute_result"
    }
   ],
   "source": [
    "a.next.value"
   ]
  },
  {
   "cell_type": "markdown",
   "metadata": {},
   "source": [
    "### If we make a.prev reference to c and c.next reference to a, it becomes a doubly linked list"
   ]
  },
  {
   "cell_type": "code",
   "execution_count": 7,
   "metadata": {},
   "outputs": [],
   "source": [
    "c.next = a\n",
    "a.prev = c"
   ]
  },
  {
   "cell_type": "markdown",
   "metadata": {},
   "source": [
    "### Doubly Linked List Implementation"
   ]
  },
  {
   "cell_type": "markdown",
   "metadata": {},
   "source": [
    "We add the following functionalities to the doublyLinkedList class. We add these functions to the class.\n",
    "\n",
    "* Inserting Items to Empty List\n",
    "* Inserting Items at the End\n",
    "* Deleting Elements from the Start\n",
    "* Deleting Elements from the End\n",
    "* Traversing the Linked List"
   ]
  },
  {
   "cell_type": "code",
   "execution_count": 9,
   "metadata": {},
   "outputs": [],
   "source": [
    "class Node:\n",
    "    def __init__(self, value):\n",
    "        self.value = value\n",
    "        self.next = None\n",
    "        self.prev = None"
   ]
  },
  {
   "cell_type": "code",
   "execution_count": 45,
   "metadata": {},
   "outputs": [],
   "source": [
    "class DoublyLinkedList:\n",
    "    def __init__(self):\n",
    "        self.start_node = None\n",
    "        \n",
    "    def insertToEmptyList(self, value):\n",
    "        node = Node(value)\n",
    "        if self.start_node is None:\n",
    "            self.start_node = node\n",
    "            \n",
    "    def insertAtStart(self, value):\n",
    "        node = Node(value)\n",
    "        if self.start_node is None:\n",
    "            self.start_node = node\n",
    "        else:\n",
    "            node.next = self.start_node\n",
    "            self.start_node.prev = node\n",
    "        self.start_node = node\n",
    "            \n",
    "    def insertAtEnd(self, value):\n",
    "        node = Node(value)\n",
    "        if self.start_node is None:\n",
    "            self.start_node = node\n",
    "            return\n",
    "        \n",
    "        current = self.start_node\n",
    "        while current.next is not None:\n",
    "            current = current.next\n",
    "        current.next = node\n",
    "        node.prev = current\n",
    "        \n",
    "    def deleteAtStart(self):\n",
    "        if self.start_node is None:\n",
    "            print(\"Linked List is Empty. No Node to delete!\")\n",
    "            return\n",
    "        \n",
    "        if self.start_node.next is None:\n",
    "            self.start_node = None\n",
    "            return\n",
    "        \n",
    "        self.start_node = self.start_node.next\n",
    "        self.start_node.prev = None\n",
    "        \n",
    "    def deleteAtEnd(self):\n",
    "        if self.start_node is None:\n",
    "            print(\"Linked List is Empty. No Node to delete!\")\n",
    "            return\n",
    "    \n",
    "        if self.start_node.next is None:\n",
    "            self.start_node = None\n",
    "            return\n",
    "        \n",
    "        current = self.start_node\n",
    "        while current.next is not None:\n",
    "            current = current.next\n",
    "        current.prev.next = None\n",
    "        \n",
    "    def displayList(self):\n",
    "        if self.start_node is None:\n",
    "            print(\"Linked List is Empty\")\n",
    "            return\n",
    "        else:\n",
    "            current = self.start_node\n",
    "            while current is not None:\n",
    "                print(current.value)\n",
    "                current = current.next\n",
    "        print()\n",
    "        "
   ]
  },
  {
   "cell_type": "code",
   "execution_count": 46,
   "metadata": {},
   "outputs": [],
   "source": [
    "dList = DoublyLinkedList()"
   ]
  },
  {
   "cell_type": "code",
   "execution_count": 47,
   "metadata": {},
   "outputs": [],
   "source": [
    "dList.insertToEmptyList(1)\n",
    "dList.insertAtEnd(2)\n",
    "dList.insertAtEnd(3)\n",
    "dList.insertAtStart(0)\n",
    "dList.insertAtStart(-1)"
   ]
  },
  {
   "cell_type": "code",
   "execution_count": 48,
   "metadata": {},
   "outputs": [
    {
     "name": "stdout",
     "output_type": "stream",
     "text": [
      "-1\n",
      "0\n",
      "1\n",
      "2\n",
      "3\n",
      "\n"
     ]
    }
   ],
   "source": [
    "dList.displayList()"
   ]
  },
  {
   "cell_type": "code",
   "execution_count": 49,
   "metadata": {},
   "outputs": [],
   "source": [
    "dList.deleteAtStart()"
   ]
  },
  {
   "cell_type": "code",
   "execution_count": 50,
   "metadata": {},
   "outputs": [
    {
     "name": "stdout",
     "output_type": "stream",
     "text": [
      "0\n",
      "1\n",
      "2\n",
      "3\n",
      "\n"
     ]
    }
   ],
   "source": [
    "dList.displayList()"
   ]
  },
  {
   "cell_type": "code",
   "execution_count": 51,
   "metadata": {},
   "outputs": [],
   "source": [
    "dList.deleteAtEnd()"
   ]
  },
  {
   "cell_type": "code",
   "execution_count": 52,
   "metadata": {},
   "outputs": [
    {
     "name": "stdout",
     "output_type": "stream",
     "text": [
      "0\n",
      "1\n",
      "2\n",
      "\n"
     ]
    }
   ],
   "source": [
    "dList.displayList()"
   ]
  },
  {
   "cell_type": "markdown",
   "metadata": {},
   "source": [
    "Applications\n",
    "* A music player that has next and previous buttons, like the concept of doubly linked list you’ll have functionality to go back and the next element. .\n",
    "* Undo Redo operations that we discussed at the beginning of the article.\n",
    "* The browser cache functionality in common web browsers like Chrome, Microsoft edge, which allows us to move front and back within pages is also a great application of a doubly linked list.\n",
    "* LRU cache, also Most Recently Used is also an instance of DLL.\n",
    "* A deck of cards in a game is a perfect example of the applicability of DLL. It is additionally utilized to store the state of the game during play. "
   ]
  },
  {
   "cell_type": "code",
   "execution_count": null,
   "metadata": {},
   "outputs": [],
   "source": []
  }
 ],
 "metadata": {
  "kernelspec": {
   "display_name": "Python 3",
   "language": "python",
   "name": "python3"
  },
  "language_info": {
   "codemirror_mode": {
    "name": "ipython",
    "version": 3
   },
   "file_extension": ".py",
   "mimetype": "text/x-python",
   "name": "python",
   "nbconvert_exporter": "python",
   "pygments_lexer": "ipython3",
   "version": "3.8.1"
  }
 },
 "nbformat": 4,
 "nbformat_minor": 4
}
