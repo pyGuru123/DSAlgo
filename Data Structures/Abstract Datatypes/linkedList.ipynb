{
 "cells": [
  {
   "cell_type": "markdown",
   "metadata": {},
   "source": [
    "### In Singly Linked list we have an ordered list of items as individual Nodes that have pointers to other nodes"
   ]
  },
  {
   "cell_type": "code",
   "execution_count": 1,
   "metadata": {},
   "outputs": [],
   "source": [
    "class Node(object):\n",
    "    def __init__(self, value):\n",
    "        self.value = value\n",
    "        self.nextnode = None"
   ]
  },
  {
   "cell_type": "code",
   "execution_count": 2,
   "metadata": {},
   "outputs": [
    {
     "data": {
      "text/plain": [
       "__main__.Node"
      ]
     },
     "execution_count": 2,
     "metadata": {},
     "output_type": "execute_result"
    }
   ],
   "source": [
    "Node"
   ]
  },
  {
   "cell_type": "code",
   "execution_count": 5,
   "metadata": {},
   "outputs": [],
   "source": [
    "a = Node(1)\n",
    "b = Node(2)\n",
    "c = Node(3)"
   ]
  },
  {
   "cell_type": "markdown",
   "metadata": {},
   "source": [
    "### Now we can join these Nodes using references"
   ]
  },
  {
   "cell_type": "code",
   "execution_count": 6,
   "metadata": {},
   "outputs": [],
   "source": [
    "a.nextnode = b\n",
    "b.nextnode = c"
   ]
  },
  {
   "cell_type": "code",
   "execution_count": 7,
   "metadata": {},
   "outputs": [
    {
     "data": {
      "text/plain": [
       "1"
      ]
     },
     "execution_count": 7,
     "metadata": {},
     "output_type": "execute_result"
    }
   ],
   "source": [
    "a.value"
   ]
  },
  {
   "cell_type": "code",
   "execution_count": 8,
   "metadata": {},
   "outputs": [
    {
     "data": {
      "text/plain": [
       "2"
      ]
     },
     "execution_count": 8,
     "metadata": {},
     "output_type": "execute_result"
    }
   ],
   "source": [
    "a.nextnode.value"
   ]
  },
  {
   "cell_type": "code",
   "execution_count": 9,
   "metadata": {},
   "outputs": [
    {
     "data": {
      "text/plain": [
       "3"
      ]
     },
     "execution_count": 9,
     "metadata": {},
     "output_type": "execute_result"
    }
   ],
   "source": [
    "a.nextnode.nextnode.value"
   ]
  },
  {
   "cell_type": "markdown",
   "metadata": {},
   "source": [
    "### Inserting an element at the head of singly linked list"
   ]
  },
  {
   "cell_type": "code",
   "execution_count": 11,
   "metadata": {},
   "outputs": [],
   "source": [
    "head = Node(0)\n",
    "head.nextnode = a"
   ]
  },
  {
   "cell_type": "code",
   "execution_count": 12,
   "metadata": {},
   "outputs": [
    {
     "data": {
      "text/plain": [
       "0"
      ]
     },
     "execution_count": 12,
     "metadata": {},
     "output_type": "execute_result"
    }
   ],
   "source": [
    "head.value"
   ]
  },
  {
   "cell_type": "code",
   "execution_count": 13,
   "metadata": {},
   "outputs": [
    {
     "data": {
      "text/plain": [
       "1"
      ]
     },
     "execution_count": 13,
     "metadata": {},
     "output_type": "execute_result"
    }
   ],
   "source": [
    "head.nextnode.value"
   ]
  },
  {
   "cell_type": "code",
   "execution_count": 14,
   "metadata": {},
   "outputs": [
    {
     "data": {
      "text/plain": [
       "2"
      ]
     },
     "execution_count": 14,
     "metadata": {},
     "output_type": "execute_result"
    }
   ],
   "source": [
    "head.nextnode.nextnode.value"
   ]
  },
  {
   "cell_type": "code",
   "execution_count": 15,
   "metadata": {},
   "outputs": [],
   "source": []
  },
  {
   "cell_type": "code",
   "execution_count": 30,
   "metadata": {},
   "outputs": [
    {
     "name": "stdout",
     "output_type": "stream",
     "text": [
      "['1', 'Mrs. Vinodita Sankhyan', 'Principal', 'M.A.,B.Ed., UGC (NET)']\n",
      "['2', 'Ms.Alka', 'Teacher', 'M.A,B.Ed.']\n",
      "['3', 'Ms.Alka Rani', 'Teacher', 'M.A.,B.Ed.']\n",
      "['4', 'Ms.Alpana Kohli', 'Teacher', 'M.A.B.Ed,Cert.(French)']\n",
      "['5', 'Ms. Anu Khanna', 'Teacher', 'M.A.,B.Ed.']\n",
      "['6', 'Ms.Amardeep Kaur', 'Teacher', 'M.A,B,Ed.,PGDCA']\n",
      "['7', 'Ms.Amarjit Kaur', 'Teacher', 'M.A.,B.Ed.']\n",
      "['8', 'Ms.Amarjit Kaur', 'Teacher', 'M.A, B.Ed']\n",
      "['9', 'Ms.Anjali Sandal', 'Teacher', 'M.Com,B.Ed.']\n",
      "['10', 'Ms.Anju Chaudhary', 'Teacher', 'M.A., B.Ed.']\n",
      "['11', 'Ms.Anuradha', 'Teacher', 'Msc(Maths)']\n",
      "['12', 'Ms.Anureet', 'Teacher', 'M.A.(Eco)N.T.T. ,B.Ed']\n",
      "['13', 'Ms.Aparna Sharma', 'Teacher', 'M.A,B.Ed.']\n",
      "['14', 'Ms.Asha Rani', 'Teacher', 'M.A.M.Ed']\n",
      "['15', ' Ms.Atika', 'Teacher', 'M.Phil']\n",
      "['16', ' Ms.Atul Sharma', 'Teacher', 'M.Sc.,B.Ed.']\n",
      "['17', 'Ms.Bhawna Sharma', 'Teacher', 'Msc., B.Ed']\n",
      "['18', 'Ms.Bhupinder Kaur', 'Teacher', 'M.A. B.Ed.']\n",
      "['19', 'Ms.Chanda Bahl', 'Teacher', 'M.A.,B.Ed.']\n",
      "['20', 'Ms.Davinder Singh', 'Teacher', 'Dip. In C.P.Ed.']\n",
      "['21', 'Ms.Deepak', 'Teacher', 'M.A.,B.Ed.,PGDCA']\n",
      "['22', ' Ms.Deepika Monga', 'Teacher', 'M.Com,B.Ed.']\n",
      "['23', 'Ms.Devendra Singh', 'Teacher', 'B.Tech (IT), MSc. (Physics)']\n",
      "['24', 'Ms.Garima Sharma', 'Teacher', 'B.Sc., M.sc.(Comp.Sci) ,(B.Ed. Persuing)']\n",
      "['25', 'Ms.Garima Thakur', 'Teacher', 'M.A.(Phy.Edu.)']\n",
      "['26', 'Ms.Gitika Oberoi', 'Teacher', 'M.A. (Fine arts)']\n",
      "['27', 'Ms.Gulraj Bhagat', 'Teacher', 'M.Com(B.Ed.)']\n",
      "['28', 'Ms.Gauri Gupta', 'Teacher', 'M.A.,B.Ed.']\n",
      "['29', 'Ms.Harish Kurl', 'Teacher', 'M.Sc.(maths),B.Ed']\n",
      "['30', 'Ms.Harpreet Kaur', 'Teacher', 'M.Sc.,B.Ed.']\n",
      "['31', 'Ms.Harpreet Kaur -Pbi', 'Teacher', 'M.A,B.Ed']\n",
      "['32', 'Ms.Inderjeet', 'Teacher', '+2,Vishard(Apr-15)']\n",
      "['33', 'Ms.Inderpreet Kaur', 'Teacher', 'M.A,B.Ed.']\n",
      "['34', 'Ms.Isha Sharma', 'Teacher', 'M.A,B.Ed']\n",
      "['35', 'Ms.Jasleen Arora', 'Teacher', 'B.Com, B.Ed']\n",
      "['36', 'Ms.Jatinder Kaur', 'Teacher', 'B.P.Ed']\n",
      "['37', 'Ms.Jatinder Kaur(Gym. Coach)', 'Teacher', 'B.A., C.P.Ed.']\n",
      "['38', 'Ms.Jatinder Kaur(Hindi)', 'Teacher', 'M.A,B.Ed.']\n",
      "['39', 'Ms. Jyoti', 'Teacher', 'M.Lib,B.Ed., M.A.(Hist.)']\n",
      "['40', 'Ms.Jyoti Arora', 'Teacher', 'M.A,M.Phil,B.Ed.']\n",
      "['41', ' Ms.Jyoti Sharma', 'Teacher', 'M.A.,B,Ed']\n",
      "['42', ' Ms.Kavita Joshi', 'Teacher', 'M.Sc.,B.Ed.']\n",
      "['43', 'Ms.Kanu ', 'Teacher', 'M.Sc B.Ed']\n",
      "['44', 'Ms.Karan Diana Sandhu', 'Teacher', 'M.Com,B.Ed.']\n",
      "['45', ' Ms.Kiran Sharma', 'Teacher', 'M.A. B.Ed.,(M.A-punjabi persuing)']\n",
      "['46', 'Ms.Komal Sharma', 'Teacher', 'MCA']\n",
      "['47', 'Ms.Lovepreet Kaur', 'Teacher', 'M.Sc.,B.Ed.']\n",
      "['48', 'Ms.Madhu Manchanda', 'Teacher', 'M.A.,B.Ed.,M.A.(Pol.Sci. Persuing)']\n",
      "['49', 'Ms.Mamta Rampal', 'Teacher', 'B.C.A,MCA']\n",
      "['50', 'Ms.Mannu Mehra', 'Teacher', 'M.Sc.,B.Ed.']\n",
      "['51', 'Ms.Manpreet Kaur', 'Teacher', 'M.A. (Fine arts)']\n",
      "['52', 'Ms. Megha Khanna', 'Teacher', 'M.A.,B.Ed']\n",
      "['53', 'Ms.Mehak Khosla', 'Teacher', 'M.A, B.Ed']\n",
      "['54', 'Ms. Mohit Kumar', 'Teacher', 'Btech (ECE)']\n",
      "['55', ' Ms.Monika Sareen', 'Teacher', 'M.A, B.Ed']\n",
      "['56', 'Ms.Monika Khindri', 'Teacher', 'M.A, B.Ed']\n",
      "['57', 'Mr.Mukesh', 'Teacher', 'M.Com,C.A.-inter, UGC,B.Ed.']\n",
      "['58', 'Ms.Mukta Mahajan', 'Teacher', 'M.Com, MBA,B.Ed.']\n",
      "['59', 'Ms.Navneet Kaur', 'Teacher', 'M.A, B.Ed']\n",
      "['60', 'Ms.Neena Sharma', 'Teacher', 'B.A.,B.Ed.']\n",
      "['61', 'Ms.Neha Khanna', 'Teacher', 'B.A.B.Ed, (M.A.)']\n",
      "['62', 'Ms.Neha', 'Teacher', 'M.Sc.,B.Ed.']\n",
      "['63', 'Ms.Nidhi Duggal', 'Teacher', 'M.Com, B.Ed.']\n",
      "['64', 'Ms.Nidhi Ohri', 'Teacher', 'M.A.(Eng.),B.Ed.']\n",
      "['65', ' Ms.Nidhi Sharma', 'Teacher', 'B.A.,B.Ed,Visharad']\n",
      "['66', 'Ms.Nidhi Saggar', 'Teacher', 'BAMS']\n",
      "['67', 'Ms.Pallavi Verma', 'Teacher', 'M.C.A.']\n",
      "['68', 'Ms.Paramjit Mehendiratta', 'Teacher', 'B.A,B.Ed']\n",
      "['69', 'Ms.Parul', 'Teacher', 'M.A,M.Phil,B.Ed.']\n",
      "['70', 'Ms. Parveen Arora', 'Teacher', 'M.Sc.B.Ed.']\n",
      "['71', 'Ms.Payal Mahajan', 'Teacher', 'M.A.,B.Ed.']\n",
      "['72', 'Ms.Payal Kapoor', 'Teacher', 'M.A.,B.Ed, M.A. (Hist.)']\n",
      "['73', 'Ms.Pooja', 'Teacher', 'M.Com,B.Ed.']\n",
      "['74', 'Ms.Pooja Kapoor', 'Teacher', 'B.A Hons.']\n",
      "['75', ' Ms.Pooja Jaitly', 'Teacher', 'B.A. B.Ed.']\n",
      "['76', 'Ms.Poonam Bhalla', 'Teacher', 'M.A.,B.Ed.']\n",
      "['77', 'Ms. Poonam Verma', 'Teacher', 'M.A (Fine Arts)']\n",
      "['78', 'Ms.Pratibha Bareja', 'Teacher', 'M.A.,B.Ed.']\n",
      "['79', 'Ms.Rachna Mahajan', 'Teacher', 'B.A.,B.Ed., NTT']\n",
      "['80', 'Ms.Radhika Arora', 'Teacher', 'M.Com,M.Ed.UGC(NET)']\n",
      "['81', 'Ms.Radhika ', 'Teacher', 'B.A, MA']\n",
      "['82', 'Ms.Rajbir Kaur', 'Teacher', 'M.A.,B.Ed.']\n",
      "['83', 'Ms R.amanpreet Kaur', 'Teacher', 'M.Com,B.Ed.']\n",
      "['84', 'Ms.Ranjana Talwar', 'Teacher', 'M.A., B.Ed']\n",
      "['85', 'Mr.Ranjit Singh', 'Teacher', 'M.P.Ed.,M.Phill']\n",
      "['86', 'Ms.Reena Devi ', 'Teacher', 'MA, B.Ed']\n",
      "['87', 'Ms.Reena Kashyap', 'Teacher', 'M.Sc.,B.Ed.,PGDCA']\n",
      "['88', 'Ms.Rekha', 'Teacher', 'M.Com,B.Ed.']\n",
      "['89', 'Ms.Renu Batra', 'Teacher', 'B.Com,M.A, B.Ed.']\n",
      "['90', 'Ms.Richa Sharma', 'Teacher', 'B.Com, MBA,B.Ed.']\n",
      "['91', 'Ms.Ridhima Kapoor', 'Teacher', 'MBA']\n",
      "['92', 'Ms.Rita Singh', 'Teacher', 'B.A.Visharad, Bhaskar']\n",
      "['93', 'Ms.Rishbi Rawlley', 'Teacher', 'B.Com,B.Ed.']\n",
      "['94', 'Ms.Ritika Mahajan', 'Teacher', 'M.Com']\n",
      "['95', 'Ms.Ritu Sharma', 'Teacher', 'M.A.,B.Ed.']\n",
      "['96', 'Ms.Rupa Nagpal', 'Teacher', 'M.A., B.Ed.']\n",
      "['97', 'Ms.Sakshi Seth', 'Teacher', 'M.A,B.Ed.']\n",
      "['98', 'Ms.Saloni Razdan', 'Teacher', 'M.A. B.Ed,PGDCA']\n",
      "['99', 'Ms.Sandeep Kumar', 'Teacher', 'B.A, Visharad, Bhaskar']\n",
      "['100', 'Ms.Sangeeta Chopra', 'Teacher', 'B.A.']\n",
      "['101', 'Ms.Sania Mehta', 'Teacher', 'M.Lib.']\n",
      "['102', 'Ms.Sarita Sharma', 'Teacher', 'M.Sc.,B.Ed.,PGDCA']\n",
      "['103', ' Ms.Sarita', 'Teacher', 'M.A.,B.Ed.']\n",
      "['104', 'Ms. Shaina Sharma', 'Teacher', 'Bsc(eco), BE.d']\n",
      "['105', 'Ms.Shashi Kant Sharma', 'Teacher', 'LLM, B.Ed.']\n",
      "['106', 'Ms.Shaveta Khosla', 'Teacher', 'M.A, B.Ed']\n",
      "['107', 'Ms.Shifali Galhotra', 'Teacher', 'M.A. B.Ed.']\n",
      "['108', 'Ms.Shikha Mehra', 'Teacher', 'M.A.,B.Ed.']\n",
      "['109', 'Ms.Shivani Abrol', 'Teacher', 'B.Sc.,B.Ed..M.Sc.']\n",
      "['110', 'Ms.Shivani', 'Teacher', 'B.A.,B.Ed.,M.A.']\n",
      "['111', 'Ms.Shivani Sharma', 'Teacher', 'MA., B.Ed']\n",
      "['112', 'Ms.Shruti Sharma', 'Teacher', 'B.A , B.Ed']\n",
      "['113', 'Ms.Simmi Arora', 'Teacher', 'M.Sc.,B.Ed.']\n",
      "['114', 'Ms.Simmi Tandon', 'Teacher', 'B.A.,B.Ed.']\n",
      "['115', 'Ms.Sonia Sharma', 'Teacher', 'M.A,B.Ed.,PGDCA']\n",
      "['116', ' Ms.Sujata', 'Teacher', 'M.Sc,B.Ed.']\n",
      "['117', ' Ms.Sukhreet Kaur', 'Teacher', 'M.Sc.,M.Ed.']\n",
      "['118', 'Ms.Sukhjeet', 'Teacher', 'B.A.B.Ed.']\n",
      "['119', 'Ms.Sukhvinder', 'Teacher', 'M.A. , B.Ed.']\n",
      "['120', 'Ms.Sumiti Gupta', 'Teacher', 'M.Sc.,B.Ed.']\n",
      "['121', 'Ms.Sunita Sharma', 'Teacher', 'M.A,B.Ed, M.Phil,M.Ed.']\n",
      "['122', 'Ms.Teena Mahajan', 'Teacher', 'M.A.,B.Ed., PGDCA']\n",
      "['123', 'Ms.Tript Kaur', 'Teacher', 'B.Sc. B.Ed.']\n",
      "['124', 'Ms.Twinkle Kapoor', 'Teacher', 'B.A.,B.Ed']\n",
      "['125', 'Ms.Vandana Sharma', 'Teacher', 'B.Com,B.Ed.,PGDCA,(M.A. Persuing)']\n",
      "['126', 'Ms.Vandana Malhotra', 'Teacher', 'Dip. Fashion Designing, B.A.,B.Ed']\n",
      "['127', 'Ms.Varinder Kaur', 'Teacher', 'M.A,M.Ed.,UGC(NET)']\n",
      "['128', 'Ms.Veenu Sharma', 'Teacher', 'B.A.,B.Ed.']\n",
      "['129', 'Mr.Vishal Arora', 'Teacher', 'M.A.,Visharad']\n",
      "['130', ' Mr.Viney Chanana', 'Teacher', 'Btech(Ece), Msc(Physics)']\n",
      "['131', ' Mr.Uttam Dash', 'Teacher', 'Matric']\n"
     ]
    }
   ],
   "source": [
    "import requests\n",
    "from bs4 import BeautifulSoup\n",
    "\n",
    "url = 'http://www.shriramashramps.org/faculty'\n",
    "r = requests.get(url)\n",
    "html = r.text\n",
    "soup = BeautifulSoup(html)\n",
    "\n",
    "div = soup.find('div', class_='table-responsive')\n",
    "table = div.find('table')\n",
    "rows = table.find_all('tr')\n",
    "\n",
    "for row in rows[1:]:\n",
    "    array = []\n",
    "    cols = row.find_all('td')\n",
    "    for col in cols:\n",
    "        array.append(col.text)\n",
    "    print(array)"
   ]
  }
 ],
 "metadata": {
  "kernelspec": {
   "display_name": "Python 3",
   "language": "python",
   "name": "python3"
  },
  "language_info": {
   "codemirror_mode": {
    "name": "ipython",
    "version": 3
   },
   "file_extension": ".py",
   "mimetype": "text/x-python",
   "name": "python",
   "nbconvert_exporter": "python",
   "pygments_lexer": "ipython3",
   "version": "3.8.1"
  }
 },
 "nbformat": 4,
 "nbformat_minor": 4
}
